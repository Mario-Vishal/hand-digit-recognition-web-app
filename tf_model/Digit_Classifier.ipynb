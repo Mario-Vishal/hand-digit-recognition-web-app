{
 "cells": [
  {
   "cell_type": "code",
   "execution_count": 2,
   "metadata": {},
   "outputs": [],
   "source": [
    "import numpy as np\n",
    "import tensorflow as tf\n",
    "from tensorflow import keras\n",
    "import matplotlib.pyplot as plt"
   ]
  },
  {
   "cell_type": "code",
   "execution_count": 3,
   "metadata": {},
   "outputs": [],
   "source": [
    "(X_train,y_train),(X_test,y_test) = keras.datasets.mnist.load_data()\n",
    "test = X_test"
   ]
  },
  {
   "cell_type": "code",
   "execution_count": 4,
   "metadata": {},
   "outputs": [],
   "source": [
    "X_train = X_train.reshape(60000,28,28,1)\n",
    "X_test = X_test.reshape(10000,28,28,1)"
   ]
  },
  {
   "cell_type": "code",
   "execution_count": 5,
   "metadata": {},
   "outputs": [],
   "source": [
    "X_train = X_train/255.\n",
    "X_test = X_test/255."
   ]
  },
  {
   "cell_type": "code",
   "execution_count": 6,
   "metadata": {},
   "outputs": [],
   "source": [
    "class check_accuracy(tf.keras.callbacks.Callback):\n",
    "    def on_epoch_end(self,epochs,logs={}):\n",
    "        if logs.get('accuracy')>=0.998:\n",
    "            print(\"Hey got 99.8 accuracy so stopping!\")\n",
    "            self.model.stop_training=True\n",
    "            \n",
    "callback = check_accuracy()"
   ]
  },
  {
   "cell_type": "code",
   "execution_count": 11,
   "metadata": {},
   "outputs": [],
   "source": [
    "model = keras.models.Sequential([\n",
    "    tf.keras.layers.Conv2D(64,(3,3),input_shape=(28,28,1)),\n",
    "    tf.keras.layers.MaxPool2D(2,2),\n",
    "    tf.keras.layers.Flatten(),\n",
    "    tf.keras.layers.Dense(128,activation='relu'),\n",
    "    tf.keras.layers.Dense(10,activation='softmax')\n",
    "])"
   ]
  },
  {
   "cell_type": "code",
   "execution_count": 12,
   "metadata": {},
   "outputs": [
    {
     "name": "stdout",
     "output_type": "stream",
     "text": [
      "Model: \"sequential_1\"\n",
      "_________________________________________________________________\n",
      "Layer (type)                 Output Shape              Param #   \n",
      "=================================================================\n",
      "conv2d_2 (Conv2D)            (None, 26, 26, 64)        640       \n",
      "_________________________________________________________________\n",
      "max_pooling2d_2 (MaxPooling2 (None, 13, 13, 64)        0         \n",
      "_________________________________________________________________\n",
      "flatten_1 (Flatten)          (None, 10816)             0         \n",
      "_________________________________________________________________\n",
      "dense_2 (Dense)              (None, 128)               1384576   \n",
      "_________________________________________________________________\n",
      "dense_3 (Dense)              (None, 10)                1290      \n",
      "=================================================================\n",
      "Total params: 1,386,506\n",
      "Trainable params: 1,386,506\n",
      "Non-trainable params: 0\n",
      "_________________________________________________________________\n"
     ]
    }
   ],
   "source": [
    "model.summary()"
   ]
  },
  {
   "cell_type": "code",
   "execution_count": 13,
   "metadata": {},
   "outputs": [],
   "source": [
    "model.compile(optimizer='adam',loss='sparse_categorical_crossentropy',metrics=['accuracy'])"
   ]
  },
  {
   "cell_type": "code",
   "execution_count": 14,
   "metadata": {},
   "outputs": [
    {
     "name": "stdout",
     "output_type": "stream",
     "text": [
      "Epoch 1/20\n",
      "1875/1875 [==============================] - 59s 31ms/step - loss: 0.1668 - accuracy: 0.9506\n",
      "Epoch 2/20\n",
      "1875/1875 [==============================] - 78s 41ms/step - loss: 0.0588 - accuracy: 0.9813\n",
      "Epoch 3/20\n",
      "1875/1875 [==============================] - 50s 27ms/step - loss: 0.0361 - accuracy: 0.9885\n",
      "Epoch 4/20\n",
      "1875/1875 [==============================] - 50s 27ms/step - loss: 0.0247 - accuracy: 0.9922\n",
      "Epoch 5/20\n",
      "1875/1875 [==============================] - 50s 27ms/step - loss: 0.0167 - accuracy: 0.9943\n",
      "Epoch 6/20\n",
      "1875/1875 [==============================] - 44s 23ms/step - loss: 0.0135 - accuracy: 0.9957\n",
      "Epoch 7/20\n",
      "1875/1875 [==============================] - 50s 27ms/step - loss: 0.0128 - accuracy: 0.9956\n",
      "Epoch 8/20\n",
      "1875/1875 [==============================] - 50s 27ms/step - loss: 0.0099 - accuracy: 0.9966\n",
      "Epoch 9/20\n",
      "1875/1875 [==============================] - 51s 27ms/step - loss: 0.0118 - accuracy: 0.9962\n",
      "Epoch 10/20\n",
      "1875/1875 [==============================] - 52s 28ms/step - loss: 0.0100 - accuracy: 0.9969\n",
      "Epoch 11/20\n",
      "1875/1875 [==============================] - 55s 29ms/step - loss: 0.0075 - accuracy: 0.9974\n",
      "Epoch 12/20\n",
      "1875/1875 [==============================] - 54s 29ms/step - loss: 0.0076 - accuracy: 0.9974\n",
      "Epoch 13/20\n",
      "1875/1875 [==============================] - 71s 38ms/step - loss: 0.0085 - accuracy: 0.9973\n",
      "Epoch 14/20\n",
      "1875/1875 [==============================] - 66s 35ms/step - loss: 0.0072 - accuracy: 0.9978\n",
      "Epoch 15/20\n",
      "1875/1875 [==============================] - 59s 32ms/step - loss: 0.0067 - accuracy: 0.9979\n",
      "Epoch 16/20\n",
      "1875/1875 [==============================] - 55s 29ms/step - loss: 0.0081 - accuracy: 0.9976\n",
      "Epoch 17/20\n",
      "1875/1875 [==============================] - 50s 27ms/step - loss: 0.0065 - accuracy: 0.9980\n",
      "Epoch 18/20\n",
      "1874/1875 [============================>.] - ETA: 0s - loss: 0.0064 - accuracy: 0.9982Hey got 99.8 accuracy so stopping!\n",
      "1875/1875 [==============================] - 57s 31ms/step - loss: 0.0064 - accuracy: 0.9982\n"
     ]
    },
    {
     "data": {
      "text/plain": [
       "<tensorflow.python.keras.callbacks.History at 0x7f5258727370>"
      ]
     },
     "execution_count": 14,
     "metadata": {},
     "output_type": "execute_result"
    }
   ],
   "source": [
    "model.fit(X_train,y_train,epochs=20,callbacks=[callback])"
   ]
  },
  {
   "cell_type": "code",
   "execution_count": 15,
   "metadata": {},
   "outputs": [
    {
     "name": "stdout",
     "output_type": "stream",
     "text": [
      "313/313 [==============================] - 3s 9ms/step - loss: 0.1304 - accuracy: 0.9827\n"
     ]
    },
    {
     "data": {
      "text/plain": [
       "[0.13044828176498413, 0.982699990272522]"
      ]
     },
     "execution_count": 15,
     "metadata": {},
     "output_type": "execute_result"
    }
   ],
   "source": [
    "model.evaluate(X_test,y_test)"
   ]
  },
  {
   "cell_type": "code",
   "execution_count": 17,
   "metadata": {},
   "outputs": [],
   "source": [
    "model.save('model_digit.h5')"
   ]
  },
  {
   "cell_type": "code",
   "execution_count": 18,
   "metadata": {},
   "outputs": [],
   "source": [
    "pred=model.predict(X_test)"
   ]
  },
  {
   "cell_type": "code",
   "execution_count": 19,
   "metadata": {},
   "outputs": [
    {
     "data": {
      "image/png": "[encoded data removed]",
      "text/plain": [
       "<Figure size 432x288 with 1 Axes>"
      ]
     },
     "metadata": {
      "needs_background": "light"
     },
     "output_type": "display_data"
    },
    {
     "name": "stdout",
     "output_type": "stream",
     "text": [
      "7\n"
     ]
    },
    {
     "data": {
      "image/png": "[encoded data removed]",
      "text/plain": [
       "<Figure size 432x288 with 1 Axes>"
      ]
     },
     "metadata": {
      "needs_background": "light"
     },
     "output_type": "display_data"
    },
    {
     "name": "stdout",
     "output_type": "stream",
     "text": [
      "2\n"
     ]
    },
    {
     "data": {
      "image/png": "[encoded data removed]",
      "text/plain": [
       "<Figure size 432x288 with 1 Axes>"
      ]
     },
     "metadata": {
      "needs_background": "light"
     },
     "output_type": "display_data"
    },
    {
     "name": "stdout",
     "output_type": "stream",
     "text": [
      "1\n"
     ]
    },
    {
     "data": {
      "image/png": "[encoded data removed]",
      "text/plain": [
       "<Figure size 432x288 with 1 Axes>"
      ]
     },
     "metadata": {
      "needs_background": "light"
     },
     "output_type": "display_data"
    },
    {
     "name": "stdout",
     "output_type": "stream",
     "text": [
      "0\n"
     ]
    }
   ],
   "source": [
    "for i in range(4):\n",
    "    plt.imshow(test[i])\n",
    "    plt.show()\n",
    "    print(y_test[i])\n"
   ]
  },
  {
   "cell_type": "code",
   "execution_count": 170,
   "metadata": {},
   "outputs": [],
   "source": [
    "from PIL import Image,ImageOps"
   ]
  },
  {
   "cell_type": "code",
   "execution_count": 96,
   "metadata": {},
   "outputs": [],
   "source": [
    "def predict(img1):\n",
    "    prediction=model.predict(img1)\n",
    "    \n",
    "    percentage = max(prediction[0])*100\n",
    "    print(prediction)\n",
    "    print(f\"Iam {percentage:.2f}% sure that its a {prediction[0].argmax()}\")\n",
    "    "
   ]
  },
  {
   "cell_type": "markdown",
   "metadata": {},
   "source": [
    "## This below function is directly coded in app.py go there to see how it works\n"
   ]
  },
  {
   "cell_type": "markdown",
   "metadata": {},
   "source": [
    "The preprocessing step is very important because if we directly resize and just predict we would get very low accuracy\n",
    "so follow these below steps-\n",
    "1- convert it into gray scale using .convert(\"L\")\n",
    "2- invert the image so to get digit in white and background as black\n",
    "3- reduce the quality or i should say resizing and resampling using Image.BILINEAR\n",
    "4- then resizing it to (1,28,28,1) as the training happens on the images of shape (60000,28,28,1) \n",
    "    --> here 60000 is number of trainning sample images\n",
    "    --> so for 1 trainining sample of image (1,28,28,1)\n",
    "5- Normalize the image by dividing 255 elementally."
   ]
  },
  {
   "cell_type": "code",
   "execution_count": 178,
   "metadata": {},
   "outputs": [
    {
     "data": {
      "image/png": "[encoded data removed]",
      "text/plain": [
       "<Figure size 432x288 with 1 Axes>"
      ]
     },
     "metadata": {
      "needs_background": "light"
     },
     "output_type": "display_data"
    },
    {
     "data": {
      "image/png": "[encoded data removed]",
      "text/plain": [
       "<Figure size 432x288 with 1 Axes>"
      ]
     },
     "metadata": {
      "needs_background": "light"
     },
     "output_type": "display_data"
    }
   ],
   "source": [
    "img = Image.open(\"41.png\") .convert(\"L\")\n",
    "img = ImageOps.invert(img)\n",
    "img = img.resize((28,28),resample=Image.BILINEAR)\n",
    "plt.imshow(img)\n",
    "plt.show()\n",
    "img =np.resize(img,(1,28,28,1))\n",
    "img = np.array(img)\n",
    "img =img/255"
   ]
  },
  {
   "cell_type": "code",
   "execution_count": 179,
   "metadata": {},
   "outputs": [
    {
     "name": "stdout",
     "output_type": "stream",
     "text": [
      "[[4.6296285e-16 4.5523104e-12 1.1618791e-11 1.5743812e-18 9.9999881e-01\n",
      "  2.3967978e-10 1.2021575e-06 7.9028224e-18 4.5233863e-15 1.0938671e-10]]\n",
      "Iam 100.00% sure that its a 4\n"
     ]
    }
   ],
   "source": [
    "\n",
    "predict(img)"
   ]
  },
  {
   "cell_type": "code",
   "execution_count": 152,
   "metadata": {},
   "outputs": [],
   "source": [
    "M = tf.keras.models.load_model('model_digit.h5')"
   ]
  },
  {
   "cell_type": "code",
   "execution_count": 153,
   "metadata": {},
   "outputs": [
    {
     "data": {
      "text/plain": [
       "9"
      ]
     },
     "execution_count": 153,
     "metadata": {},
     "output_type": "execute_result"
    }
   ],
   "source": [
    "np.argmax(M.predict(X_test[7].reshape(1,28,28,1)))"
   ]
  },
  {
   "cell_type": "code",
   "execution_count": 154,
   "metadata": {},
   "outputs": [
    {
     "data": {
      "text/plain": [
       "0"
      ]
     },
     "execution_count": 154,
     "metadata": {},
     "output_type": "execute_result"
    }
   ],
   "source": [
    "np.argmax(M.predict(img))"
   ]
  },
  {
   "cell_type": "code",
   "execution_count": null,
   "metadata": {},
   "outputs": [],
   "source": []
  }
 ],
 "metadata": {
  "kernelspec": {
   "display_name": "Python 3",
   "language": "python",
   "name": "python3"
  },
  "language_info": {
   "codemirror_mode": {
    "name": "ipython",
    "version": 3
   },
   "file_extension": ".py",
   "mimetype": "text/x-python",
   "name": "python",
   "nbconvert_exporter": "python",
   "pygments_lexer": "ipython3",
   "version": "3.8.3"
  }
 },
 "nbformat": 4,
 "nbformat_minor": 4
}
